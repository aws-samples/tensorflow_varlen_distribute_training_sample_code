{
 "cells": [
  {
   "cell_type": "code",
   "execution_count": null,
   "metadata": {
    "tags": []
   },
   "outputs": [],
   "source": [
    "!pip install -U sagemaker"
   ]
  },
  {
   "cell_type": "code",
   "execution_count": 1,
   "metadata": {
    "tags": []
   },
   "outputs": [
    {
     "name": "stdout",
     "output_type": "stream",
     "text": [
      "sagemaker.config INFO - Not applying SDK defaults from location: /etc/xdg/sagemaker/config.yaml\n",
      "sagemaker.config INFO - Not applying SDK defaults from location: /home/ec2-user/.config/sagemaker/config.yaml\n"
     ]
    }
   ],
   "source": [
    "import os\n",
    "import sagemaker\n",
    "from sagemaker import get_execution_role\n",
    "\n",
    "sagemaker_session = sagemaker.Session()\n",
    "\n",
    "role = get_execution_role()\n",
    "region = sagemaker_session.boto_session.region_name\n",
    "\n",
    "#sagemaker_session.EnableManagedSpotTraining=True"
   ]
  },
  {
   "cell_type": "markdown",
   "metadata": {},
   "source": [
    "* 特征数据已经按天处理好"
   ]
  },
  {
   "cell_type": "code",
   "execution_count": 2,
   "metadata": {
    "tags": []
   },
   "outputs": [],
   "source": [
    "train_s3 = sagemaker.inputs.TrainingInput('s3://sagemaker-us-west-2-*****/cust/tf_train/features_20240725_224822/', input_mode = 'FastFile')\n",
    "train_s3_1 = sagemaker.inputs.TrainingInput('s3://sagemaker-us-west-2-*****/cust/tf_train/features_20240730_035130/', input_mode = 'FastFile')\n",
    "train_s3_2 = sagemaker.inputs.TrainingInput('s3://sagemaker-us-west-2-*****/cust/tf_train/features_20240730_062430/', input_mode = 'FastFile')\n",
    "train_s3_3 = sagemaker.inputs.TrainingInput('s3://sagemaker-us-west-2-*****/cust/tf_train/features_20240731_233205/', input_mode = 'FastFile')\n",
    "train_s3_4 = sagemaker.inputs.TrainingInput('s3://sagemaker-us-west-2-*****/cust/tf_train/features_20240801_081721/', input_mode = 'FastFile')\n",
    "train_s3_5 = sagemaker.inputs.TrainingInput('s3://sagemaker-us-west-2-*****/cust/tf_train/features_20240801_095228/', input_mode = 'FastFile')\n",
    "train_s3_6 = sagemaker.inputs.TrainingInput('s3://sagemaker-us-west-2-*****/cust/tf_train/features_20240801_115324/', input_mode = 'FastFile')\n",
    "train_s3_7 = sagemaker.inputs.TrainingInput('s3://sagemaker-us-west-2-*****/cust/tf_train/features_20240801_143053/', input_mode = 'FastFile')\n",
    "\n",
    "#train_s3 = 's3://liang200/cust-test-data'\n",
    "#inputs = {'training': train_s3}\n",
    "#print(inputs)"
   ]
  },
  {
   "cell_type": "code",
   "execution_count": 3,
   "metadata": {
    "tags": []
   },
   "outputs": [],
   "source": [
    "## fsx integrate\n",
    "\n",
    "from sagemaker.inputs import FileSystemInput\n",
    "\n",
    "# Specify FSx Lustre file system id.\n",
    "file_system_id = \"fs-041196881eafe09c0\" # Change to your Fsx FS id\n",
    "\n",
    "# Specify directory path for input data on the file system. \n",
    "# You need to provide normalized and absolute path below.\n",
    "file_system_directory_path = '/y5pzdbev' # Change to your Fsx Mount name which is given in FSx FS details\n",
    "\n",
    "# Specify the access mode of the mount of the directory associated with the file system. \n",
    "file_system_access_mode = 'rw'\n",
    "\n",
    "# Specify your file system type.\n",
    "file_system_type = 'FSxLustre'\n",
    "\n",
    "fsx_fs = FileSystemInput(file_system_id=file_system_id,\n",
    "                                    file_system_type=file_system_type,\n",
    "                                    directory_path=file_system_directory_path,\n",
    "                                    file_system_access_mode=file_system_access_mode)\n",
    "\n",
    "#fsx_channels = {'fsx': fsx_fs}"
   ]
  },
  {
   "cell_type": "markdown",
   "metadata": {},
   "source": [
    "* 特征长度json和特征唯一值json放s3，做为环境变量传入"
   ]
  },
  {
   "cell_type": "code",
   "execution_count": null,
   "metadata": {
    "tags": []
   },
   "outputs": [],
   "source": [
    "import time\n",
    "timestamp = int(time.time())\n",
    "original_job_name = 'job-cust-poc'\n",
    "job_name = f\"{original_job_name}-{timestamp}\"\n",
    "job_name = f\"job-cust-poc-100nodes-2xlarge-7days-{timestamp}\"\n",
    "print(job_name)\n",
    "environment = {'job_name': job_name,\n",
    "               'feature_lenth_dict':'s3://sagemaker-us-west-2-*****/cust/tf_train/features_20240710_041505/part-00000-f02ce9a7-3057-4b81-b6aa-520954364de1-c000.json',\n",
    "               'feature_hash_dict':'s3://sagemaker-us-west-2-*****/cust/tf_train/features_20240710_041505/part-00000-757be5db-4d45-493f-a7b9-836104157742-c000.json'\n",
    "              }"
   ]
  },
  {
   "cell_type": "code",
   "execution_count": 5,
   "metadata": {
    "tags": []
   },
   "outputs": [],
   "source": [
    "from sagemaker.tensorflow import TensorFlow\n",
    "\n",
    "wide_deep_estimator = TensorFlow(entry_point='./DNN-v3.py',\n",
    "                             role=role,\n",
    "                             source_dir = './train/',\n",
    "                             #max_run=86400*3,\n",
    "                             #use_spot_instances=True,\n",
    "                             #max_wait=86400*3,\n",
    "                             instance_count=100,\n",
    "                             #train_volume_size=400,\n",
    "                             #instance_type='ml.c5.18xlarge',\n",
    "                             #instance_type='ml.m6i.8xlarge',\n",
    "                             instance_type='ml.m6i.2xlarge',\n",
    "                             #instance_type='ml.m6i.4xlarge',\n",
    "                             #instance_type='ml.c6i.32xlarge',\n",
    "                             #input_mode='File',\n",
    "                             #input_mode='Pipe',\n",
    "                             #input_mode='FastFile',\n",
    "                             framework_version='2.14',\n",
    "                             #py_version='py39',\n",
    "                             py_version='py310',\n",
    "                             subnets=['subnet-0cd82a76a056fabab'], # Should be same vpc with FSx, best to use same subnet with FSx\n",
    "                             security_group_ids=['sg-0193c82932eb9f168','sg-04c9ce51b0c7665e7','sg-0af43c5507997cdb7',], # Needed when use FSx\n",
    "                             #enable_sagemaker_metrics=True,\n",
    "                             keep_alive_period_in_seconds=1800,\n",
    "                             environment=environment,\n",
    "                             distribution={'parameter_server': {'enabled': True}})"
   ]
  },
  {
   "cell_type": "markdown",
   "metadata": {},
   "source": [
    "* 需要跑几天的数据，就传入几天的channel inputs\n",
    "* 训练脚本中会自动扫描天级目录，如果有则加入dataset"
   ]
  },
  {
   "cell_type": "code",
   "execution_count": null,
   "metadata": {
    "tags": []
   },
   "outputs": [],
   "source": [
    "#inputs = {'fsx': fsx_fs}\n",
    "#inputs = {'training': train_s3,'fsx': fsx_fs}\n",
    "inputs = {'training1': train_s3_1,\n",
    "          'training2': train_s3_2,\n",
    "          'training3': train_s3_3,\n",
    "          'training4': train_s3_4,\n",
    "          'training5': train_s3_5,\n",
    "          'training6': train_s3_6,\n",
    "          'training7': train_s3_,\n",
    "          'fsx': fsx_fs}\n",
    "wide_deep_estimator.fit(inputs, job_name = job_name)"
   ]
  }
 ],
 "metadata": {
  "kernelspec": {
   "display_name": "conda_tensorflow2_p310",
   "language": "python",
   "name": "conda_tensorflow2_p310"
  },
  "language_info": {
   "codemirror_mode": {
    "name": "ipython",
    "version": 3
   },
   "file_extension": ".py",
   "mimetype": "text/x-python",
   "name": "python",
   "nbconvert_exporter": "python",
   "pygments_lexer": "ipython3",
   "version": "3.10.14"
  }
 },
 "nbformat": 4,
 "nbformat_minor": 4
}
